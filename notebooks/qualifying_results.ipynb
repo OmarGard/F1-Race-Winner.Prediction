{
 "cells": [
  {
   "cell_type": "markdown",
   "id": "789e935a",
   "metadata": {},
   "source": [
    "# Exploración de Datos de Fórmula 1\n",
    "\n",
    "Este notebook contiene funciones para obtener datos de sesiones de Fórmula 1, incluyendo datos de clasificación.\n",
    "\n",
    "## Funcionalidades:\n",
    "- Función genérica para obtener datos de cualquier sesión\n",
    "- Función específica para obtener datos de clasificación\n",
    "- Ejemplo con el Gran Premio de Bélgica 2025"
   ]
  },
  {
   "cell_type": "code",
   "execution_count": 1,
   "id": "bf06f204",
   "metadata": {},
   "outputs": [],
   "source": [
    "# Importar las bibliotecas necesarias\n",
    "import fastf1\n",
    "import os\n",
    "import importlib.util\n",
    "\n",
    "# Importar las funciones de recolección de datos usando importlib\n",
    "data_collection_path = os.path.join(os.path.dirname(os.getcwd()), 'src', 'data_collection.py')\n",
    "spec = importlib.util.spec_from_file_location(\"data_collection\", data_collection_path)\n",
    "data_collection = importlib.util.module_from_spec(spec)\n",
    "spec.loader.exec_module(data_collection)\n",
    "\n",
    "# Acceder a las funciones del módulo\n",
    "get_session_data = data_collection.get_session_data\n",
    "get_qualifying_data = data_collection.get_qualifying_data\n",
    "\n",
    "# Configurar FastF1 para el cache\n",
    "fastf1.Cache.enable_cache('../data/raw')  # Crear directorio cache para mejorar rendimiento"
   ]
  },
  {
   "cell_type": "code",
   "execution_count": 2,
   "id": "9fbd8fd6",
   "metadata": {},
   "outputs": [
    {
     "name": "stdout",
     "output_type": "stream",
     "text": [
      "✓ Funciones importadas exitosamente desde data_collection.py:\n",
      "- get_session_data: <function get_session_data at 0x1117f0cc0>\n",
      "- get_qualifying_data: <function get_qualifying_data at 0x1117f3600>\n",
      "\n",
      "📝 Las funciones ahora están disponibles desde el módulo data_collection\n"
     ]
    }
   ],
   "source": [
    "print(\"✓ Funciones importadas exitosamente desde data_collection.py:\")\n",
    "print(f\"- get_session_data: {get_session_data}\")\n",
    "print(f\"- get_qualifying_data: {get_qualifying_data}\")\n",
    "print(\"\\n📝 Las funciones ahora están disponibles desde el módulo data_collection\")"
   ]
  },
  {
   "cell_type": "markdown",
   "id": "55fde0d4",
   "metadata": {},
   "source": [
    "## Ejemplo: Datos de Clasificación del Gran Premio de Bélgica 2025\n",
    "\n",
    "A continuación, utilizaremos las funciones creadas para obtener los datos de clasificación del Gran Premio de Bélgica 2025."
   ]
  },
  {
   "cell_type": "code",
   "execution_count": 3,
   "id": "35983728",
   "metadata": {},
   "outputs": [
    {
     "name": "stdout",
     "output_type": "stream",
     "text": [
      "Obteniendo datos de clasificación del Gran Premio de Bélgica 2025...\n",
      "============================================================\n"
     ]
    },
    {
     "name": "stderr",
     "output_type": "stream",
     "text": [
      "core           INFO \tLoading data for Belgian Grand Prix - Qualifying [v3.6.0]\n",
      "req            INFO \tUsing cached data for session_info\n",
      "req            INFO \tUsing cached data for driver_info\n",
      "req            INFO \tUsing cached data for session_info\n",
      "req            INFO \tUsing cached data for driver_info\n",
      "req            INFO \tUsing cached data for session_status_data\n",
      "req            INFO \tUsing cached data for track_status_data\n",
      "req            INFO \tUsing cached data for _extended_timing_data\n",
      "req            INFO \tUsing cached data for timing_app_data\n",
      "req            INFO \tUsing cached data for session_status_data\n",
      "req            INFO \tUsing cached data for track_status_data\n",
      "req            INFO \tUsing cached data for _extended_timing_data\n",
      "req            INFO \tUsing cached data for timing_app_data\n",
      "core           INFO \tProcessing timing data...\n",
      "core           INFO \tProcessing timing data...\n",
      "req            INFO \tUsing cached data for car_data\n",
      "req            INFO \tUsing cached data for car_data\n",
      "req            INFO \tUsing cached data for position_data\n",
      "req            INFO \tUsing cached data for position_data\n",
      "req            INFO \tUsing cached data for weather_data\n",
      "req            INFO \tUsing cached data for weather_data\n",
      "req            INFO \tUsing cached data for race_control_messages\n",
      "core           INFO \tFinished loading data for 20 drivers: ['4', '81', '16', '1', '23', '63', '22', '6', '30', '5', '31', '87', '10', '27', '55', '44', '43', '12', '14', '18']\n",
      "req            INFO \tUsing cached data for race_control_messages\n",
      "core           INFO \tFinished loading data for 20 drivers: ['4', '81', '16', '1', '23', '63', '22', '6', '30', '5', '31', '87', '10', '27', '55', '44', '43', '12', '14', '18']\n"
     ]
    },
    {
     "name": "stdout",
     "output_type": "stream",
     "text": [
      "✓ Datos cargados exitosamente para Qualifying - Belgium 2025\n",
      "  Fecha: 2025-07-26 14:00:00\n",
      "  Circuito: Belgian Grand Prix\n",
      "  Ubicación: Spa-Francorchamps\n",
      "✓ Datos de clasificación procesados: 20 pilotos\n",
      "\n",
      "📊 RESULTADOS DE CLASIFICACIÓN:\n",
      " Position DriverNumber BroadcastName Abbreviation        TeamName                     Q1                     Q2                     Q3               BestTime         QualiGapToPole\n",
      "      1.0            4      L NORRIS          NOR         McLaren 0 days 00:01:41.010000 0 days 00:01:40.715000 0 days 00:01:40.562000 0 days 00:01:40.562000        0 days 00:00:00\n",
      "      2.0           81     O PIASTRI          PIA         McLaren 0 days 00:01:41.201000 0 days 00:01:40.626000 0 days 00:01:40.647000 0 days 00:01:40.626000 0 days 00:00:00.064000\n",
      "      3.0           16     C LECLERC          LEC         Ferrari 0 days 00:01:41.635000 0 days 00:01:41.084000 0 days 00:01:40.900000 0 days 00:01:40.900000 0 days 00:00:00.338000\n",
      "      4.0            1  M VERSTAPPEN          VER Red Bull Racing 0 days 00:01:41.334000 0 days 00:01:40.951000 0 days 00:01:40.903000 0 days 00:01:40.903000 0 days 00:00:00.341000\n",
      "      5.0           23       A ALBON          ALB        Williams 0 days 00:01:41.772000 0 days 00:01:41.505000 0 days 00:01:41.201000 0 days 00:01:41.201000 0 days 00:00:00.639000\n",
      "      6.0           63     G RUSSELL          RUS        Mercedes 0 days 00:01:41.784000 0 days 00:01:41.254000 0 days 00:01:41.260000 0 days 00:01:41.254000 0 days 00:00:00.692000\n",
      "      7.0           22     Y TSUNODA          TSU Red Bull Racing 0 days 00:01:41.840000 0 days 00:01:41.245000 0 days 00:01:41.284000 0 days 00:01:41.245000 0 days 00:00:00.683000\n",
      "      8.0            6      I HADJAR          HAD    Racing Bulls 0 days 00:01:41.572000 0 days 00:01:41.281000 0 days 00:01:41.310000 0 days 00:01:41.281000 0 days 00:00:00.719000\n",
      "      9.0           30      L LAWSON          LAW    Racing Bulls 0 days 00:01:41.748000 0 days 00:01:41.297000 0 days 00:01:41.328000 0 days 00:01:41.297000 0 days 00:00:00.735000\n",
      "     10.0            5   G BORTOLETO          BOR     Kick Sauber 0 days 00:01:41.908000 0 days 00:01:41.336000 0 days 00:01:42.387000 0 days 00:01:41.336000 0 days 00:00:00.774000\n",
      "     11.0           31        E OCON          OCO    Haas F1 Team 0 days 00:01:41.884000 0 days 00:01:41.525000                    NaT 0 days 00:01:41.525000 0 days 00:00:00.963000\n",
      "     12.0           87     O BEARMAN          BEA    Haas F1 Team 0 days 00:01:41.617000 0 days 00:01:41.617000                    NaT 0 days 00:01:41.617000 0 days 00:00:01.055000\n",
      "     13.0           10       P GASLY          GAS          Alpine 0 days 00:01:41.800000 0 days 00:01:41.633000                    NaT 0 days 00:01:41.633000 0 days 00:00:01.071000\n",
      "     14.0           27  N HULKENBERG          HUL     Kick Sauber 0 days 00:01:41.844000 0 days 00:01:41.707000                    NaT 0 days 00:01:41.707000 0 days 00:00:01.145000\n",
      "     15.0           55       C SAINZ          SAI        Williams 0 days 00:01:41.691000 0 days 00:01:41.758000                    NaT 0 days 00:01:41.691000 0 days 00:00:01.129000\n",
      "     16.0           44    L HAMILTON          HAM         Ferrari 0 days 00:01:41.939000                    NaT                    NaT 0 days 00:01:41.939000 0 days 00:00:01.377000\n",
      "     17.0           43   F COLAPINTO          COL          Alpine 0 days 00:01:42.022000                    NaT                    NaT 0 days 00:01:42.022000 0 days 00:00:01.460000\n",
      "     18.0           12   K ANTONELLI          ANT        Mercedes 0 days 00:01:42.139000                    NaT                    NaT 0 days 00:01:42.139000 0 days 00:00:01.577000\n",
      "     19.0           14      F ALONSO          ALO    Aston Martin 0 days 00:01:42.385000                    NaT                    NaT 0 days 00:01:42.385000 0 days 00:00:01.823000\n",
      "     20.0           18      L STROLL          STR    Aston Martin 0 days 00:01:42.502000                    NaT                    NaT 0 days 00:01:42.502000 0 days 00:00:01.940000\n",
      "\n",
      "📈 RESUMEN:\n",
      "Total de pilotos: 20\n",
      "Pole position: L NORRIS (McLaren)\n"
     ]
    }
   ],
   "source": [
    "# Obtener los datos de clasificación del Gran Premio de Bélgica 2025\n",
    "print(\"Obteniendo datos de clasificación del Gran Premio de Bélgica 2025...\")\n",
    "print(\"=\" * 60)\n",
    "\n",
    "# Usar la función para obtener los datos\n",
    "belgium_qualifying = get_qualifying_data(2025, 'Belgium')\n",
    "\n",
    "if belgium_qualifying is not None:\n",
    "    print(\"\\n📊 RESULTADOS DE CLASIFICACIÓN:\")\n",
    "    print(belgium_qualifying.to_string(index=False))\n",
    "    \n",
    "    print(f\"\\n📈 RESUMEN:\")\n",
    "    print(f\"Total de pilotos: {len(belgium_qualifying)}\")\n",
    "    print(f\"Pole position: {belgium_qualifying.iloc[0]['BroadcastName']} ({belgium_qualifying.iloc[0]['TeamName']})\")\n",
    "else:\n",
    "    print(\"❌ No se pudieron obtener los datos de clasificación\")"
   ]
  }
 ],
 "metadata": {
  "kernelspec": {
   "display_name": ".venv",
   "language": "python",
   "name": "python3"
  },
  "language_info": {
   "codemirror_mode": {
    "name": "ipython",
    "version": 3
   },
   "file_extension": ".py",
   "mimetype": "text/x-python",
   "name": "python",
   "nbconvert_exporter": "python",
   "pygments_lexer": "ipython3",
   "version": "3.12.5"
  }
 },
 "nbformat": 4,
 "nbformat_minor": 5
}
